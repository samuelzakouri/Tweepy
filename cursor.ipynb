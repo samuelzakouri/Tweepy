{
 "cells": [
  {
   "cell_type": "code",
   "execution_count": 1,
   "metadata": {
    "ExecuteTime": {
     "end_time": "2021-02-23T11:31:42.348378Z",
     "start_time": "2021-02-23T11:31:41.291238Z"
    }
   },
   "outputs": [],
   "source": [
    "import tweepy\n",
    "import pandas as pd\n",
    "import credentials"
   ]
  },
  {
   "cell_type": "code",
   "execution_count": 4,
   "metadata": {
    "ExecuteTime": {
     "end_time": "2021-02-23T11:31:52.941481Z",
     "start_time": "2021-02-23T11:31:52.345423Z"
    }
   },
   "outputs": [],
   "source": [
    "auth = tweepy.OAuthHandler(credentials.consumer_key, credentials.consumer_secret)\n",
    "auth.set_access_token(credentials.access_token, credentials.access_token_secret)\n",
    "api = tweepy.API(auth, wait_on_rate_limit=True)\n",
    "me = api.me()"
   ]
  },
  {
   "cell_type": "code",
   "execution_count": 5,
   "metadata": {
    "ExecuteTime": {
     "end_time": "2021-02-23T11:31:54.716549Z",
     "start_time": "2021-02-23T11:31:54.329238Z"
    }
   },
   "outputs": [
    {
     "name": "stdout",
     "output_type": "stream",
     "text": [
      "Rendez-vous sur ma chaîne Telegram ! 👇🏼👇🏼\n",
      "\n",
      "https://t.co/J5JdHvokfg\n",
      "🦇 @mbatshuayi was the match-winner when Chelsea last visited Madrid! \n",
      "\n",
      "Who'll score tonight? 🤷‍♂️\n",
      "\n",
      "#UCL https://t.co/ozg9MWaY7V\n",
      "Une oeuvre d'art numérique représentant un célèbre chat d'Internet vendue 460.000 euros\n",
      "\n",
      "https://t.co/pwozznmqE3\n",
      "L'#Iran impose des restrictions sur son programme nucléaire (TV d'Etat)\n",
      "https://t.co/xub1oplWF8\n",
      "Balade au CNF de Clairefontaine pour les Bleues avant le départ pour Metz ! 🇫🇷🇨🇭 ce soir à 21H10 sur W9 #FRASUI… https://t.co/pBmRwocehU\n",
      "🔵 Des bras musclés, tatoués, un polo XXS, un pantalon de survêtement en toute circonstance, et cette bouche, qui cr… https://t.co/yvffbEZqtF\n",
      "J’étais l’invité de @PascalPraud sur @CNEWS ce lundi\n",
      "\n",
      "Retrouvez les meilleurs moments sur ma chaîne YouTube 👇🏼👇🏼\n",
      "\n",
      "https://t.co/qAUUsv8WzT\n",
      "RT @didierdrogba: Wow, @PetrCech voice on this video!!! The images speak a thousand of stories \n",
      "All the very best @ChelseaFC , it’s show ti…\n",
      "Comment @DjokerNole a pu jouer et gagner l’@AustralianOpen tout en étant blessé? Éléments de réponse ici 👉… https://t.co/7WVnPz579z\n",
      "« L'objectif est d'avoir un traitement à Dunkerque qui s'apparente à celui de la métropole niçoise [...] ainsi qu'u… https://t.co/igrFAyKV1N\n"
     ]
    }
   ],
   "source": [
    "for tweet in tweepy.Cursor(api.home_timeline).items(10):\n",
    "    print(tweet.text)"
   ]
  },
  {
   "cell_type": "code",
   "execution_count": 7,
   "metadata": {
    "ExecuteTime": {
     "end_time": "2021-02-23T11:32:11.849856Z",
     "start_time": "2021-02-23T11:32:11.464168Z"
    },
    "scrolled": true
   },
   "outputs": [
    {
     "name": "stdout",
     "output_type": "stream",
     "text": [
      "NOVAK DJOKOVIC 9TH AUSTRALIAN OPEN GRAND SLAM | SHORTS #02\n",
      "https://t.co/4X2nFYwqq3\n",
      "\n",
      "#shorts #youtubeshorts… https://t.co/WMHvQZeAKP\n",
      "Morons, #Vaccines and #Tennis: Booing at the Australian Open - https://t.co/9qObFS3hN6 https://t.co/RM7CsrL783 #AustralianOpen #COVID19\n",
      "#Facebook to Lift Ban on News Pages in #AustralianOpen \n",
      "\n",
      " https://t.co/wykROIZ3XV via @SputnikInt https://t.co/sfglXJB6Vl\n",
      "British former world number one Andy Murray said he watched virtually nothing of the #AustralianOpen he was forced… https://t.co/woxG67MKct\n",
      "#Sugar baby needed First 60 to like and retweet gets $5000.. I'm legit 24 hours giveaway sugar mummy Paypal Cash ap… https://t.co/DzUerMrdFr\n"
     ]
    }
   ],
   "source": [
    "for tweet in tweepy.Cursor(api.search, q='#AustralianOpen -filter:retweets',\n",
    "                           lang=\"en\").items(5):\n",
    "    #print(vars(tweet).keys())\n",
    "    print(tweet.text)"
   ]
  },
  {
   "cell_type": "code",
   "execution_count": null,
   "metadata": {},
   "outputs": [],
   "source": []
  },
  {
   "cell_type": "code",
   "execution_count": null,
   "metadata": {},
   "outputs": [],
   "source": []
  },
  {
   "cell_type": "code",
   "execution_count": null,
   "metadata": {},
   "outputs": [],
   "source": []
  },
  {
   "cell_type": "code",
   "execution_count": null,
   "metadata": {},
   "outputs": [],
   "source": []
  },
  {
   "cell_type": "code",
   "execution_count": null,
   "metadata": {},
   "outputs": [],
   "source": []
  },
  {
   "cell_type": "code",
   "execution_count": null,
   "metadata": {},
   "outputs": [],
   "source": []
  },
  {
   "cell_type": "code",
   "execution_count": null,
   "metadata": {},
   "outputs": [],
   "source": []
  },
  {
   "cell_type": "code",
   "execution_count": null,
   "metadata": {},
   "outputs": [],
   "source": []
  }
 ],
 "metadata": {
  "kernelspec": {
   "display_name": "Python 3",
   "language": "python",
   "name": "python3"
  },
  "language_info": {
   "codemirror_mode": {
    "name": "ipython",
    "version": 3
   },
   "file_extension": ".py",
   "mimetype": "text/x-python",
   "name": "python",
   "nbconvert_exporter": "python",
   "pygments_lexer": "ipython3",
   "version": "3.7.9"
  },
  "toc": {
   "base_numbering": 1,
   "nav_menu": {},
   "number_sections": true,
   "sideBar": true,
   "skip_h1_title": false,
   "title_cell": "Table of Contents",
   "title_sidebar": "Contents",
   "toc_cell": false,
   "toc_position": {},
   "toc_section_display": true,
   "toc_window_display": false
  },
  "varInspector": {
   "cols": {
    "lenName": 16,
    "lenType": 16,
    "lenVar": 40
   },
   "kernels_config": {
    "python": {
     "delete_cmd_postfix": "",
     "delete_cmd_prefix": "del ",
     "library": "var_list.py",
     "varRefreshCmd": "print(var_dic_list())"
    },
    "r": {
     "delete_cmd_postfix": ") ",
     "delete_cmd_prefix": "rm(",
     "library": "var_list.r",
     "varRefreshCmd": "cat(var_dic_list()) "
    }
   },
   "types_to_exclude": [
    "module",
    "function",
    "builtin_function_or_method",
    "instance",
    "_Feature"
   ],
   "window_display": false
  }
 },
 "nbformat": 4,
 "nbformat_minor": 5
}
