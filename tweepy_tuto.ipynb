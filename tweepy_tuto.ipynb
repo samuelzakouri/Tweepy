{
 "cells": [
  {
   "cell_type": "markdown",
   "metadata": {},
   "source": [
    "https://docs.tweepy.org/en/latest/api.html"
   ]
  },
  {
   "cell_type": "code",
   "execution_count": 1,
   "metadata": {
    "ExecuteTime": {
     "end_time": "2021-02-22T20:46:58.400565Z",
     "start_time": "2021-02-22T20:46:58.116638Z"
    }
   },
   "outputs": [],
   "source": [
    "import tweepy\n",
    "import credentials"
   ]
  },
  {
   "cell_type": "code",
   "execution_count": 3,
   "metadata": {
    "ExecuteTime": {
     "end_time": "2021-02-22T20:46:58.885176Z",
     "start_time": "2021-02-22T20:46:58.425001Z"
    }
   },
   "outputs": [
    {
     "name": "stdout",
     "output_type": "stream",
     "text": [
      "⚽ Retrouvez chaque lundi les podcasts #AfterClubs de l'After : \n",
      "\n",
      "► After OM : https://t.co/c9WtcGow2e\n",
      "► After PSG :… https://t.co/1OffIjibiC\n",
      "L’ordinateur quantique est une des grandes batailles de l’innovation.\n",
      "Une partie de cette bataille se joue à Massy… https://t.co/ALsGx5Yfuz\n",
      "LETS GOOOOOOO\n",
      "RT @DebarqueEnMP: https://t.co/GRWTmq3KGv\n",
      "🗣💬 @RothenJerome  \"Ce PSG est bancal. Le titre, je suis persuadé qu'il y a des équipes qui peuvent y croire plus qu… https://t.co/i06q8kGnZc\n",
      "Vaccin : nouvelle arme diplomatique ?\n",
      "\n",
      "➡️ Pascale Zonszain : \"Il n'y a rien de nouveau, cette 'soft diplomatie' est… https://t.co/AFV4Hy163q\n",
      "L'Atlético traverse une mauvaise passe depuis que Thomas Lemar a été testé positif au Covid-19\n",
      "\n",
      "Le Français, ancien… https://t.co/MSbzdzY1WI\n",
      "🔴 Jorge Sampaoli s'approche de l'OM. L'entraîneur argentin a officialisé, ce lundi soir, son départ de l'Atlético Mineiro.\n",
      "[🎞️VIDEO - ⚽️BUT] 🇮🇹 #SerieA \n",
      "🔥🔥 Criistianooo Rooonaldooo !!! 🔥🔥 \n",
      "💥💥 Quelques secondes après avoir ouvert le score,… https://t.co/4IfaEdzgal\n",
      "Stunning way to net your first #PL goal 👏\n",
      "\n",
      "#BHACRY // @CPFC https://t.co/tpxWMTJ46O\n",
      "Encore un nouveau logo qui va couter une blinde\n",
      "Vous aussi quand vous tapez « girondins de Bordeaux «  sur google ... https://t.co/VJwQzsZEs6\n",
      "🏉 Bernard Laporte et Roxana Maracineanu se sont rencontrés pour aborder le sujet de la bonne tenue du match France-… https://t.co/cwhGmjcOGu\n",
      "🏉 A six jours du match face à l'Ecosse, cinq nouveaux joueurs du XV de France ont été testés positifs au COVID-19.… https://t.co/zjnuJ9Wwdu\n",
      "RT @ZhangZhangZhang: Brava Zohra!! 🤜🤛👍👏🙏\n",
      "En plus, delighted to meet a Queen whose name begins with the letter Z! #ZohraBitan #universalism…\n",
      "https://t.co/tSjEL7jNFk\n",
      "💥 BOUM BOUM !!! #CR7\n",
      "#JuveCrotone 2-0 2ème but et encore de la tête pour #CRISTIANO. Quel athlète ! #RuizClub https://t.co/9ej3ULjaFQ\n",
      "🔴 OFFICIEL ! Jorge Sampaoli annonce son départ de l'Atlético Mineiro ! \n",
      "\n",
      "« Ce jeudi sera mon dernier match », a ann… https://t.co/C1BhX8gJsM\n"
     ]
    }
   ],
   "source": [
    "#This example will download your home timeline tweets and print each one of their texts to the console\n",
    "auth = tweepy.OAuthHandler(credentials.consumer_key, credentials.consumer_secret)\n",
    "auth.set_access_token(credentials.access_token, credentials.access_token_secret)\n",
    "\n",
    "api = tweepy.API(auth)\n",
    "\n",
    "public_tweets = api.home_timeline()\n",
    "for tweet in public_tweets:\n",
    "    print(tweet.text)"
   ]
  },
  {
   "cell_type": "code",
   "execution_count": 4,
   "metadata": {
    "ExecuteTime": {
     "end_time": "2021-02-22T20:46:59.163079Z",
     "start_time": "2021-02-22T20:46:58.889041Z"
    }
   },
   "outputs": [],
   "source": [
    "# Get the User object for me..\n",
    "user = api.get_user('samzak27')"
   ]
  },
  {
   "cell_type": "code",
   "execution_count": 5,
   "metadata": {
    "ExecuteTime": {
     "end_time": "2021-02-22T20:46:59.598233Z",
     "start_time": "2021-02-22T20:46:59.167506Z"
    }
   },
   "outputs": [
    {
     "name": "stdout",
     "output_type": "stream",
     "text": [
      "samzak27\n",
      "6\n",
      "Djebbari_JB\n",
      "doucetphilippe2\n",
      "ATPCup\n",
      "maxsaada\n",
      "gourmaud_jamy\n",
      "footballprecede\n",
      "Big3Tennis\n",
      "chrislollichon\n",
      "paulsaintsernin\n",
      "PLFVPL_\n",
      "MicheleLaroque\n",
      "Chagabs\n",
      "Binou555\n",
      "gkuntzmann\n",
      "JeanMessiha\n",
      "ZinebElRhazoui\n",
      "ZohraBitan\n",
      "CursedFootball\n",
      "DaniilMedwed\n",
      "AlexZverev\n"
     ]
    }
   ],
   "source": [
    "print(user.screen_name)\n",
    "print(user.followers_count)\n",
    "for friend in user.friends():\n",
    "    print(friend.screen_name)"
   ]
  },
  {
   "cell_type": "code",
   "execution_count": 6,
   "metadata": {
    "ExecuteTime": {
     "end_time": "2021-02-22T20:46:59.642496Z",
     "start_time": "2021-02-22T20:46:59.612578Z"
    }
   },
   "outputs": [
    {
     "data": {
      "text/plain": [
       "['__class__',\n",
       " '__delattr__',\n",
       " '__dict__',\n",
       " '__dir__',\n",
       " '__doc__',\n",
       " '__eq__',\n",
       " '__format__',\n",
       " '__ge__',\n",
       " '__getattribute__',\n",
       " '__gt__',\n",
       " '__hash__',\n",
       " '__init__',\n",
       " '__init_subclass__',\n",
       " '__le__',\n",
       " '__lt__',\n",
       " '__module__',\n",
       " '__ne__',\n",
       " '__new__',\n",
       " '__reduce__',\n",
       " '__reduce_ex__',\n",
       " '__repr__',\n",
       " '__setattr__',\n",
       " '__sizeof__',\n",
       " '__str__',\n",
       " '__subclasshook__',\n",
       " '__weakref__',\n",
       " '_add_list_members',\n",
       " '_lookup_friendships',\n",
       " '_pack_image',\n",
       " '_remove_list_members',\n",
       " '_send_direct_message',\n",
       " 'add_list_member',\n",
       " 'add_list_members',\n",
       " 'api_root',\n",
       " 'auth',\n",
       " 'blocks',\n",
       " 'blocks_ids',\n",
       " 'cache',\n",
       " 'cached_result',\n",
       " 'compression',\n",
       " 'configuration',\n",
       " 'create_block',\n",
       " 'create_favorite',\n",
       " 'create_friendship',\n",
       " 'create_list',\n",
       " 'create_media_metadata',\n",
       " 'create_mute',\n",
       " 'create_saved_search',\n",
       " 'destroy_block',\n",
       " 'destroy_direct_message',\n",
       " 'destroy_favorite',\n",
       " 'destroy_friendship',\n",
       " 'destroy_list',\n",
       " 'destroy_mute',\n",
       " 'destroy_saved_search',\n",
       " 'destroy_status',\n",
       " 'favorites',\n",
       " 'followers',\n",
       " 'followers_ids',\n",
       " 'friends',\n",
       " 'friends_ids',\n",
       " 'friendships_incoming',\n",
       " 'friendships_outgoing',\n",
       " 'geo_id',\n",
       " 'geo_search',\n",
       " 'geo_similar_places',\n",
       " 'get_direct_message',\n",
       " 'get_list',\n",
       " 'get_oembed',\n",
       " 'get_saved_search',\n",
       " 'get_settings',\n",
       " 'get_status',\n",
       " 'get_user',\n",
       " 'home_timeline',\n",
       " 'host',\n",
       " 'last_response',\n",
       " 'list_direct_messages',\n",
       " 'list_members',\n",
       " 'list_subscribers',\n",
       " 'list_timeline',\n",
       " 'lists_all',\n",
       " 'lists_memberships',\n",
       " 'lists_subscriptions',\n",
       " 'lookup_friendships',\n",
       " 'lookup_users',\n",
       " 'me',\n",
       " 'media_upload',\n",
       " 'mentions_timeline',\n",
       " 'mutes',\n",
       " 'mutes_ids',\n",
       " 'parser',\n",
       " 'proxy',\n",
       " 'rate_limit_status',\n",
       " 'related_results',\n",
       " 'remove_list_member',\n",
       " 'remove_list_members',\n",
       " 'report_spam',\n",
       " 'retry_count',\n",
       " 'retry_delay',\n",
       " 'retry_errors',\n",
       " 'retweet',\n",
       " 'retweeters',\n",
       " 'retweets',\n",
       " 'retweets_of_me',\n",
       " 'reverse_geocode',\n",
       " 'saved_searches',\n",
       " 'search',\n",
       " 'search_30_day',\n",
       " 'search_full_archive',\n",
       " 'search_host',\n",
       " 'search_root',\n",
       " 'search_users',\n",
       " 'send_direct_message',\n",
       " 'set_settings',\n",
       " 'show_friendship',\n",
       " 'show_list_member',\n",
       " 'show_list_subscriber',\n",
       " 'statuses_lookup',\n",
       " 'subscribe_list',\n",
       " 'supported_languages',\n",
       " 'timeout',\n",
       " 'trends_available',\n",
       " 'trends_closest',\n",
       " 'trends_place',\n",
       " 'unretweet',\n",
       " 'unsubscribe_list',\n",
       " 'update_list',\n",
       " 'update_profile',\n",
       " 'update_profile_banner',\n",
       " 'update_profile_image',\n",
       " 'update_status',\n",
       " 'update_with_media',\n",
       " 'upload_host',\n",
       " 'upload_root',\n",
       " 'user_timeline',\n",
       " 'verify_credentials',\n",
       " 'wait_on_rate_limit',\n",
       " 'wait_on_rate_limit_notify']"
      ]
     },
     "execution_count": 6,
     "metadata": {},
     "output_type": "execute_result"
    }
   ],
   "source": [
    "dir(api)"
   ]
  },
  {
   "cell_type": "code",
   "execution_count": 7,
   "metadata": {
    "ExecuteTime": {
     "end_time": "2021-02-22T20:47:00.217859Z",
     "start_time": "2021-02-22T20:46:59.651225Z"
    }
   },
   "outputs": [
    {
     "data": {
      "text/plain": [
       "'samzak27'"
      ]
     },
     "execution_count": 7,
     "metadata": {},
     "output_type": "execute_result"
    }
   ],
   "source": [
    "api.me().screen_name"
   ]
  }
 ],
 "metadata": {
  "kernelspec": {
   "display_name": "Python 3",
   "language": "python",
   "name": "python3"
  },
  "language_info": {
   "codemirror_mode": {
    "name": "ipython",
    "version": 3
   },
   "file_extension": ".py",
   "mimetype": "text/x-python",
   "name": "python",
   "nbconvert_exporter": "python",
   "pygments_lexer": "ipython3",
   "version": "3.7.9"
  },
  "toc": {
   "base_numbering": 1,
   "nav_menu": {},
   "number_sections": true,
   "sideBar": true,
   "skip_h1_title": false,
   "title_cell": "Table of Contents",
   "title_sidebar": "Contents",
   "toc_cell": false,
   "toc_position": {},
   "toc_section_display": true,
   "toc_window_display": false
  },
  "varInspector": {
   "cols": {
    "lenName": 16,
    "lenType": 16,
    "lenVar": 40
   },
   "kernels_config": {
    "python": {
     "delete_cmd_postfix": "",
     "delete_cmd_prefix": "del ",
     "library": "var_list.py",
     "varRefreshCmd": "print(var_dic_list())"
    },
    "r": {
     "delete_cmd_postfix": ") ",
     "delete_cmd_prefix": "rm(",
     "library": "var_list.r",
     "varRefreshCmd": "cat(var_dic_list()) "
    }
   },
   "types_to_exclude": [
    "module",
    "function",
    "builtin_function_or_method",
    "instance",
    "_Feature"
   ],
   "window_display": false
  }
 },
 "nbformat": 4,
 "nbformat_minor": 5
}
