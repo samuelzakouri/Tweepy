{
 "cells": [
  {
   "cell_type": "code",
   "execution_count": 10,
   "metadata": {
    "ExecuteTime": {
     "end_time": "2021-02-22T17:30:18.917928Z",
     "start_time": "2021-02-22T17:30:18.328202Z"
    }
   },
   "outputs": [],
   "source": [
    "import tweepy\n",
    "import pandas as pd\n",
    "import credentials"
   ]
  },
  {
   "cell_type": "code",
   "execution_count": 3,
   "metadata": {
    "ExecuteTime": {
     "end_time": "2021-02-22T17:26:59.635534Z",
     "start_time": "2021-02-22T17:26:59.629323Z"
    }
   },
   "outputs": [],
   "source": [
    "auth = tweepy.OAuthHandler(credentials.consumer_key, credentials.consumer_secret)\n",
    "auth.set_access_token(credentials.access_token, credentials.access_token_secret)\n",
    "api = tweepy.API(auth)\n",
    "mytimeline = api.home_timeline()"
   ]
  },
  {
   "cell_type": "code",
   "execution_count": 22,
   "metadata": {
    "ExecuteTime": {
     "end_time": "2021-02-22T17:44:29.711062Z",
     "start_time": "2021-02-22T17:44:29.701134Z"
    }
   },
   "outputs": [],
   "source": [
    "columns = set()\n",
    "allowed_types = [str, int]\n",
    "tweets_data = []\n",
    "for tweet in mytimeline:\n",
    "    tweet_dict = dict(vars(tweet))\n",
    "    keys = tweet_dict.keys()\n",
    "    single_tweet_data = {'user': tweet.user.screen_name, 'author': tweet.author.screen_name}\n",
    "    for key in keys:\n",
    "        try:\n",
    "            v_type = type(tweet_dict[key])\n",
    "        except: \n",
    "            v_type = None\n",
    "        if v_type != None:\n",
    "            if v_type in allowed_types:\n",
    "                single_tweet_data[key] = tweet_dict[key]\n",
    "                columns.add(key)\n",
    "    tweets_data.append(single_tweet_data)\n",
    "    \n",
    "header_cols = list(columns)\n",
    "header_cols.append('user')\n",
    "header_cols.append('author')"
   ]
  },
  {
   "cell_type": "code",
   "execution_count": 23,
   "metadata": {
    "ExecuteTime": {
     "end_time": "2021-02-22T17:44:30.426630Z",
     "start_time": "2021-02-22T17:44:30.399953Z"
    }
   },
   "outputs": [
    {
     "data": {
      "text/html": [
       "<div>\n",
       "<style scoped>\n",
       "    .dataframe tbody tr th:only-of-type {\n",
       "        vertical-align: middle;\n",
       "    }\n",
       "\n",
       "    .dataframe tbody tr th {\n",
       "        vertical-align: top;\n",
       "    }\n",
       "\n",
       "    .dataframe thead th {\n",
       "        text-align: right;\n",
       "    }\n",
       "</style>\n",
       "<table border=\"1\" class=\"dataframe\">\n",
       "  <thead>\n",
       "    <tr style=\"text-align: right;\">\n",
       "      <th></th>\n",
       "      <th>source_url</th>\n",
       "      <th>retweet_count</th>\n",
       "      <th>text</th>\n",
       "      <th>in_reply_to_user_id</th>\n",
       "      <th>in_reply_to_screen_name</th>\n",
       "      <th>id</th>\n",
       "      <th>lang</th>\n",
       "      <th>in_reply_to_status_id_str</th>\n",
       "      <th>favorite_count</th>\n",
       "      <th>id_str</th>\n",
       "      <th>in_reply_to_status_id</th>\n",
       "      <th>in_reply_to_user_id_str</th>\n",
       "      <th>source</th>\n",
       "      <th>user</th>\n",
       "      <th>author</th>\n",
       "    </tr>\n",
       "  </thead>\n",
       "  <tbody>\n",
       "    <tr>\n",
       "      <th>0</th>\n",
       "      <td>http://wildmoka.com</td>\n",
       "      <td>0</td>\n",
       "      <td>#Israël: réduction drastique du nombre de ress...</td>\n",
       "      <td>NaN</td>\n",
       "      <td>NaN</td>\n",
       "      <td>1363903020715696129</td>\n",
       "      <td>fr</td>\n",
       "      <td>NaN</td>\n",
       "      <td>1</td>\n",
       "      <td>1363903020715696129</td>\n",
       "      <td>NaN</td>\n",
       "      <td>NaN</td>\n",
       "      <td>Wildmoka</td>\n",
       "      <td>i24NEWS_FR</td>\n",
       "      <td>i24NEWS_FR</td>\n",
       "    </tr>\n",
       "    <tr>\n",
       "      <th>1</th>\n",
       "      <td>http://twitter.com/download/android</td>\n",
       "      <td>3</td>\n",
       "      <td>RT @EretzSport: 📸 | 🚴‍♂️ | L'image du jour : M...</td>\n",
       "      <td>NaN</td>\n",
       "      <td>NaN</td>\n",
       "      <td>1363902994685825027</td>\n",
       "      <td>fr</td>\n",
       "      <td>NaN</td>\n",
       "      <td>0</td>\n",
       "      <td>1363902994685825027</td>\n",
       "      <td>NaN</td>\n",
       "      <td>NaN</td>\n",
       "      <td>Twitter for Android</td>\n",
       "      <td>EretzInfo</td>\n",
       "      <td>EretzInfo</td>\n",
       "    </tr>\n",
       "    <tr>\n",
       "      <th>2</th>\n",
       "      <td>https://mobile.twitter.com</td>\n",
       "      <td>1</td>\n",
       "      <td>La Thaïlande mise sur le cannabis pour stimule...</td>\n",
       "      <td>NaN</td>\n",
       "      <td>NaN</td>\n",
       "      <td>1363902959256535044</td>\n",
       "      <td>fr</td>\n",
       "      <td>NaN</td>\n",
       "      <td>1</td>\n",
       "      <td>1363902959256535044</td>\n",
       "      <td>NaN</td>\n",
       "      <td>NaN</td>\n",
       "      <td>Twitter Web App</td>\n",
       "      <td>CNEWS</td>\n",
       "      <td>CNEWS</td>\n",
       "    </tr>\n",
       "    <tr>\n",
       "      <th>3</th>\n",
       "      <td>https://ifttt.com</td>\n",
       "      <td>1</td>\n",
       "      <td>Mercato : Sven Botman (LOSC) n'est pas encore ...</td>\n",
       "      <td>NaN</td>\n",
       "      <td>NaN</td>\n",
       "      <td>1363902894446170118</td>\n",
       "      <td>fr</td>\n",
       "      <td>NaN</td>\n",
       "      <td>1</td>\n",
       "      <td>1363902894446170118</td>\n",
       "      <td>NaN</td>\n",
       "      <td>NaN</td>\n",
       "      <td>IFTTT</td>\n",
       "      <td>francefootball</td>\n",
       "      <td>francefootball</td>\n",
       "    </tr>\n",
       "    <tr>\n",
       "      <th>4</th>\n",
       "      <td>https://ifttt.com</td>\n",
       "      <td>1</td>\n",
       "      <td>Le PSG a tenté de recruter Luis Suarez l'été d...</td>\n",
       "      <td>NaN</td>\n",
       "      <td>NaN</td>\n",
       "      <td>1363902887680688134</td>\n",
       "      <td>fr</td>\n",
       "      <td>NaN</td>\n",
       "      <td>1</td>\n",
       "      <td>1363902887680688134</td>\n",
       "      <td>NaN</td>\n",
       "      <td>NaN</td>\n",
       "      <td>IFTTT</td>\n",
       "      <td>francefootball</td>\n",
       "      <td>francefootball</td>\n",
       "    </tr>\n",
       "  </tbody>\n",
       "</table>\n",
       "</div>"
      ],
      "text/plain": [
       "                            source_url  retweet_count  \\\n",
       "0                  http://wildmoka.com              0   \n",
       "1  http://twitter.com/download/android              3   \n",
       "2           https://mobile.twitter.com              1   \n",
       "3                    https://ifttt.com              1   \n",
       "4                    https://ifttt.com              1   \n",
       "\n",
       "                                                text  in_reply_to_user_id  \\\n",
       "0  #Israël: réduction drastique du nombre de ress...                  NaN   \n",
       "1  RT @EretzSport: 📸 | 🚴‍♂️ | L'image du jour : M...                  NaN   \n",
       "2  La Thaïlande mise sur le cannabis pour stimule...                  NaN   \n",
       "3  Mercato : Sven Botman (LOSC) n'est pas encore ...                  NaN   \n",
       "4  Le PSG a tenté de recruter Luis Suarez l'été d...                  NaN   \n",
       "\n",
       "  in_reply_to_screen_name                   id lang in_reply_to_status_id_str  \\\n",
       "0                     NaN  1363903020715696129   fr                       NaN   \n",
       "1                     NaN  1363902994685825027   fr                       NaN   \n",
       "2                     NaN  1363902959256535044   fr                       NaN   \n",
       "3                     NaN  1363902894446170118   fr                       NaN   \n",
       "4                     NaN  1363902887680688134   fr                       NaN   \n",
       "\n",
       "   favorite_count               id_str  in_reply_to_status_id  \\\n",
       "0               1  1363903020715696129                    NaN   \n",
       "1               0  1363902994685825027                    NaN   \n",
       "2               1  1363902959256535044                    NaN   \n",
       "3               1  1363902894446170118                    NaN   \n",
       "4               1  1363902887680688134                    NaN   \n",
       "\n",
       "  in_reply_to_user_id_str               source            user          author  \n",
       "0                     NaN             Wildmoka      i24NEWS_FR      i24NEWS_FR  \n",
       "1                     NaN  Twitter for Android       EretzInfo       EretzInfo  \n",
       "2                     NaN      Twitter Web App           CNEWS           CNEWS  \n",
       "3                     NaN                IFTTT  francefootball  francefootball  \n",
       "4                     NaN                IFTTT  francefootball  francefootball  "
      ]
     },
     "execution_count": 23,
     "metadata": {},
     "output_type": "execute_result"
    }
   ],
   "source": [
    "df = pd.DataFrame(tweets_data, columns=header_cols)\n",
    "df.head()"
   ]
  },
  {
   "cell_type": "code",
   "execution_count": 24,
   "metadata": {
    "ExecuteTime": {
     "end_time": "2021-02-22T17:48:37.136249Z",
     "start_time": "2021-02-22T17:48:37.128762Z"
    }
   },
   "outputs": [],
   "source": [
    "def extract_timeline_as_df(timeline_list):\n",
    "    columns = set()\n",
    "    allowed_types = [str, int]\n",
    "    tweets_data = []\n",
    "    for tweet in timeline_list:\n",
    "        tweet_dict = dict(vars(tweet))\n",
    "        keys = tweet_dict.keys()\n",
    "        single_tweet_data = {'user': tweet.user.screen_name, 'author': tweet.author.screen_name}\n",
    "        for key in keys:\n",
    "            try:\n",
    "                v_type = type(tweet_dict[key])\n",
    "            except: \n",
    "                v_type = None\n",
    "            if v_type != None:\n",
    "                if v_type in allowed_types:\n",
    "                    single_tweet_data[key] = tweet_dict[key]\n",
    "                    columns.add(key)\n",
    "        tweets_data.append(single_tweet_data)\n",
    "\n",
    "    header_cols = list(columns)\n",
    "    header_cols.append('user')\n",
    "    header_cols.append('author')\n",
    "    df = pd.DataFrame(tweets_data, columns=header_cols)\n",
    "    return df "
   ]
  },
  {
   "cell_type": "code",
   "execution_count": 26,
   "metadata": {
    "ExecuteTime": {
     "end_time": "2021-02-22T17:50:19.280980Z",
     "start_time": "2021-02-22T17:50:18.509090Z"
    }
   },
   "outputs": [
    {
     "data": {
      "text/html": [
       "<div>\n",
       "<style scoped>\n",
       "    .dataframe tbody tr th:only-of-type {\n",
       "        vertical-align: middle;\n",
       "    }\n",
       "\n",
       "    .dataframe tbody tr th {\n",
       "        vertical-align: top;\n",
       "    }\n",
       "\n",
       "    .dataframe thead th {\n",
       "        text-align: right;\n",
       "    }\n",
       "</style>\n",
       "<table border=\"1\" class=\"dataframe\">\n",
       "  <thead>\n",
       "    <tr style=\"text-align: right;\">\n",
       "      <th></th>\n",
       "      <th>source_url</th>\n",
       "      <th>retweet_count</th>\n",
       "      <th>text</th>\n",
       "      <th>quoted_status_id</th>\n",
       "      <th>quoted_status_id_str</th>\n",
       "      <th>id</th>\n",
       "      <th>lang</th>\n",
       "      <th>favorite_count</th>\n",
       "      <th>id_str</th>\n",
       "      <th>source</th>\n",
       "      <th>user</th>\n",
       "      <th>author</th>\n",
       "    </tr>\n",
       "  </thead>\n",
       "  <tbody>\n",
       "    <tr>\n",
       "      <th>0</th>\n",
       "      <td>https://studio.twitter.com</td>\n",
       "      <td>569</td>\n",
       "      <td>Todos sabemos que en esta vida nadie puede con...</td>\n",
       "      <td>NaN</td>\n",
       "      <td>NaN</td>\n",
       "      <td>1360948414456893441</td>\n",
       "      <td>es</td>\n",
       "      <td>3796</td>\n",
       "      <td>1360948414456893441</td>\n",
       "      <td>Twitter Media Studio</td>\n",
       "      <td>RafaelNadal</td>\n",
       "      <td>RafaelNadal</td>\n",
       "    </tr>\n",
       "    <tr>\n",
       "      <th>1</th>\n",
       "      <td>https://mobile.twitter.com</td>\n",
       "      <td>230</td>\n",
       "      <td>RT @Kia_Worldwide: To celebrate our 20 years o...</td>\n",
       "      <td>NaN</td>\n",
       "      <td>NaN</td>\n",
       "      <td>1357482665893498882</td>\n",
       "      <td>en</td>\n",
       "      <td>0</td>\n",
       "      <td>1357482665893498882</td>\n",
       "      <td>Twitter Web App</td>\n",
       "      <td>RafaelNadal</td>\n",
       "      <td>RafaelNadal</td>\n",
       "    </tr>\n",
       "    <tr>\n",
       "      <th>2</th>\n",
       "      <td>http://twitter.com/download/iphone</td>\n",
       "      <td>182</td>\n",
       "      <td>Me alegra anunciaros que ahora podéis encontra...</td>\n",
       "      <td>NaN</td>\n",
       "      <td>NaN</td>\n",
       "      <td>1356932448735518720</td>\n",
       "      <td>es</td>\n",
       "      <td>1727</td>\n",
       "      <td>1356932448735518720</td>\n",
       "      <td>Twitter for iPhone</td>\n",
       "      <td>RafaelNadal</td>\n",
       "      <td>RafaelNadal</td>\n",
       "    </tr>\n",
       "    <tr>\n",
       "      <th>3</th>\n",
       "      <td>http://twitter.com/download/iphone</td>\n",
       "      <td>584</td>\n",
       "      <td>Hi all, we have decided with #TeamSpain and my...</td>\n",
       "      <td>NaN</td>\n",
       "      <td>NaN</td>\n",
       "      <td>1356480493458386944</td>\n",
       "      <td>en</td>\n",
       "      <td>7908</td>\n",
       "      <td>1356480493458386944</td>\n",
       "      <td>Twitter for iPhone</td>\n",
       "      <td>RafaelNadal</td>\n",
       "      <td>RafaelNadal</td>\n",
       "    </tr>\n",
       "    <tr>\n",
       "      <th>4</th>\n",
       "      <td>http://twitter.com/download/iphone</td>\n",
       "      <td>250</td>\n",
       "      <td>Check this @Kia_Worldwide and @babolat are uni...</td>\n",
       "      <td>NaN</td>\n",
       "      <td>NaN</td>\n",
       "      <td>1355860496860073990</td>\n",
       "      <td>en</td>\n",
       "      <td>2257</td>\n",
       "      <td>1355860496860073990</td>\n",
       "      <td>Twitter for iPhone</td>\n",
       "      <td>RafaelNadal</td>\n",
       "      <td>RafaelNadal</td>\n",
       "    </tr>\n",
       "  </tbody>\n",
       "</table>\n",
       "</div>"
      ],
      "text/plain": [
       "                           source_url  retweet_count  \\\n",
       "0          https://studio.twitter.com            569   \n",
       "1          https://mobile.twitter.com            230   \n",
       "2  http://twitter.com/download/iphone            182   \n",
       "3  http://twitter.com/download/iphone            584   \n",
       "4  http://twitter.com/download/iphone            250   \n",
       "\n",
       "                                                text  quoted_status_id  \\\n",
       "0  Todos sabemos que en esta vida nadie puede con...               NaN   \n",
       "1  RT @Kia_Worldwide: To celebrate our 20 years o...               NaN   \n",
       "2  Me alegra anunciaros que ahora podéis encontra...               NaN   \n",
       "3  Hi all, we have decided with #TeamSpain and my...               NaN   \n",
       "4  Check this @Kia_Worldwide and @babolat are uni...               NaN   \n",
       "\n",
       "  quoted_status_id_str                   id lang  favorite_count  \\\n",
       "0                  NaN  1360948414456893441   es            3796   \n",
       "1                  NaN  1357482665893498882   en               0   \n",
       "2                  NaN  1356932448735518720   es            1727   \n",
       "3                  NaN  1356480493458386944   en            7908   \n",
       "4                  NaN  1355860496860073990   en            2257   \n",
       "\n",
       "                id_str                source         user       author  \n",
       "0  1360948414456893441  Twitter Media Studio  RafaelNadal  RafaelNadal  \n",
       "1  1357482665893498882       Twitter Web App  RafaelNadal  RafaelNadal  \n",
       "2  1356932448735518720    Twitter for iPhone  RafaelNadal  RafaelNadal  \n",
       "3  1356480493458386944    Twitter for iPhone  RafaelNadal  RafaelNadal  \n",
       "4  1355860496860073990    Twitter for iPhone  RafaelNadal  RafaelNadal  "
      ]
     },
     "execution_count": 26,
     "metadata": {},
     "output_type": "execute_result"
    }
   ],
   "source": [
    "rafa_nadal = api.get_user('RafaelNadal')\n",
    "rafa_tl = rafa_nadal.timeline()\n",
    "df3 = extract_timeline_as_df(rafa_tl)\n",
    "df3.head()"
   ]
  },
  {
   "cell_type": "code",
   "execution_count": 29,
   "metadata": {
    "ExecuteTime": {
     "end_time": "2021-02-22T17:57:39.294577Z",
     "start_time": "2021-02-22T17:57:39.009835Z"
    }
   },
   "outputs": [
    {
     "data": {
      "text/plain": [
       "'Nous devons accélérer ensemble la production de vaccins via des partenariats industriels. Tout en poursuivant sa re… https://t.co/vJ0DRejkIM'"
      ]
     },
     "execution_count": 29,
     "metadata": {},
     "output_type": "execute_result"
    }
   ],
   "source": [
    "#Get a specific tweet\n",
    "status_obj = api.get_status('1363810487180402688')\n",
    "status_obj.text"
   ]
  },
  {
   "cell_type": "code",
   "execution_count": 31,
   "metadata": {
    "ExecuteTime": {
     "end_time": "2021-02-22T17:58:56.338113Z",
     "start_time": "2021-02-22T17:58:56.332301Z"
    }
   },
   "outputs": [
    {
     "data": {
      "text/plain": [
       "1360948414456893441"
      ]
     },
     "execution_count": 31,
     "metadata": {},
     "output_type": "execute_result"
    }
   ],
   "source": [
    "rafa_tl[0].id"
   ]
  }
 ],
 "metadata": {
  "kernelspec": {
   "display_name": "Python 3",
   "language": "python",
   "name": "python3"
  },
  "language_info": {
   "codemirror_mode": {
    "name": "ipython",
    "version": 3
   },
   "file_extension": ".py",
   "mimetype": "text/x-python",
   "name": "python",
   "nbconvert_exporter": "python",
   "pygments_lexer": "ipython3",
   "version": "3.7.9"
  },
  "toc": {
   "base_numbering": 1,
   "nav_menu": {},
   "number_sections": true,
   "sideBar": true,
   "skip_h1_title": false,
   "title_cell": "Table of Contents",
   "title_sidebar": "Contents",
   "toc_cell": false,
   "toc_position": {},
   "toc_section_display": true,
   "toc_window_display": false
  },
  "varInspector": {
   "cols": {
    "lenName": 16,
    "lenType": 16,
    "lenVar": 40
   },
   "kernels_config": {
    "python": {
     "delete_cmd_postfix": "",
     "delete_cmd_prefix": "del ",
     "library": "var_list.py",
     "varRefreshCmd": "print(var_dic_list())"
    },
    "r": {
     "delete_cmd_postfix": ") ",
     "delete_cmd_prefix": "rm(",
     "library": "var_list.r",
     "varRefreshCmd": "cat(var_dic_list()) "
    }
   },
   "types_to_exclude": [
    "module",
    "function",
    "builtin_function_or_method",
    "instance",
    "_Feature"
   ],
   "window_display": false
  }
 },
 "nbformat": 4,
 "nbformat_minor": 5
}
