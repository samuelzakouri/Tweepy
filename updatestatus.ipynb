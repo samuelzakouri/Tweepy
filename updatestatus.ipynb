{
 "cells": [
  {
   "cell_type": "markdown",
   "metadata": {},
   "source": [
    "https://docs.tweepy.org/en/latest/api.html"
   ]
  },
  {
   "cell_type": "code",
   "execution_count": 1,
   "metadata": {
    "ExecuteTime": {
     "end_time": "2021-02-22T20:47:14.290071Z",
     "start_time": "2021-02-22T20:47:14.169931Z"
    }
   },
   "outputs": [],
   "source": [
    "import tweepy\n",
    "import credentials"
   ]
  },
  {
   "cell_type": "code",
   "execution_count": 3,
   "metadata": {
    "ExecuteTime": {
     "end_time": "2021-02-22T20:47:14.654966Z",
     "start_time": "2021-02-22T20:47:14.646233Z"
    }
   },
   "outputs": [],
   "source": [
    "#This example will download your home timeline tweets and print each one of their texts to the console\n",
    "auth = tweepy.OAuthHandler(credentials.consumer_key, credentials.consumer_secret)\n",
    "auth.set_access_token(credentials.access_token, credentials.access_token_secret)\n",
    "\n",
    "api = tweepy.API(auth)"
   ]
  },
  {
   "cell_type": "code",
   "execution_count": 4,
   "metadata": {
    "ExecuteTime": {
     "end_time": "2021-02-22T20:47:15.582011Z",
     "start_time": "2021-02-22T20:47:15.018120Z"
    }
   },
   "outputs": [],
   "source": [
    "me = api.me()"
   ]
  },
  {
   "cell_type": "code",
   "execution_count": 5,
   "metadata": {
    "ExecuteTime": {
     "end_time": "2021-02-22T20:47:15.658153Z",
     "start_time": "2021-02-22T20:47:15.641199Z"
    }
   },
   "outputs": [
    {
     "data": {
      "text/plain": [
       "'samzak27'"
      ]
     },
     "execution_count": 5,
     "metadata": {},
     "output_type": "execute_result"
    }
   ],
   "source": [
    "me.screen_name"
   ]
  },
  {
   "cell_type": "code",
   "execution_count": 10,
   "metadata": {
    "ExecuteTime": {
     "end_time": "2021-02-22T20:49:51.683073Z",
     "start_time": "2021-02-22T20:49:51.265534Z"
    }
   },
   "outputs": [],
   "source": [
    "new_status = api.update_status('Coucou Salomé')"
   ]
  },
  {
   "cell_type": "code",
   "execution_count": 11,
   "metadata": {
    "ExecuteTime": {
     "end_time": "2021-02-22T20:50:26.973331Z",
     "start_time": "2021-02-22T20:50:26.659108Z"
    }
   },
   "outputs": [
    {
     "data": {
      "text/plain": [
       "Status(_api=<tweepy.api.API object at 0x7f8c0a492910>, _json={'created_at': 'Mon Feb 22 20:49:51 +0000 2021', 'id': 1363954176825376773, 'id_str': '1363954176825376773', 'text': 'Coucou Salomé', 'truncated': False, 'entities': {'hashtags': [], 'symbols': [], 'user_mentions': [], 'urls': []}, 'source': '', 'in_reply_to_status_id': None, 'in_reply_to_status_id_str': None, 'in_reply_to_user_id': None, 'in_reply_to_user_id_str': None, 'in_reply_to_screen_name': None, 'user': {'id': 1210519615673159682, 'id_str': '1210519615673159682', 'name': 'Sam', 'screen_name': 'samzak27', 'location': 'Paris, France', 'description': '', 'url': None, 'entities': {'description': {'urls': []}}, 'protected': False, 'followers_count': 6, 'friends_count': 225, 'listed_count': 0, 'created_at': 'Fri Dec 27 11:15:57 +0000 2019', 'favourites_count': 989, 'utc_offset': None, 'time_zone': None, 'geo_enabled': False, 'verified': False, 'statuses_count': 39, 'lang': None, 'contributors_enabled': False, 'is_translator': False, 'is_translation_enabled': False, 'profile_background_color': 'F5F8FA', 'profile_background_image_url': None, 'profile_background_image_url_https': None, 'profile_background_tile': False, 'profile_image_url': 'http://pbs.twimg.com/profile_images/1359165561003999241/YkDh8mq9_normal.jpg', 'profile_image_url_https': 'https://pbs.twimg.com/profile_images/1359165561003999241/YkDh8mq9_normal.jpg', 'profile_link_color': '1DA1F2', 'profile_sidebar_border_color': 'C0DEED', 'profile_sidebar_fill_color': 'DDEEF6', 'profile_text_color': '333333', 'profile_use_background_image': True, 'has_extended_profile': False, 'default_profile': True, 'default_profile_image': False, 'following': False, 'follow_request_sent': False, 'notifications': False, 'translator_type': 'none'}, 'geo': None, 'coordinates': None, 'place': None, 'contributors': None, 'is_quote_status': False, 'retweet_count': 0, 'favorite_count': 0, 'favorited': False, 'retweeted': False, 'lang': 'fr'}, created_at=datetime.datetime(2021, 2, 22, 20, 49, 51), id=1363954176825376773, id_str='1363954176825376773', text='Coucou Salomé', truncated=False, entities={'hashtags': [], 'symbols': [], 'user_mentions': [], 'urls': []}, source='', source_url=None, in_reply_to_status_id=None, in_reply_to_status_id_str=None, in_reply_to_user_id=None, in_reply_to_user_id_str=None, in_reply_to_screen_name=None, author=User(_api=<tweepy.api.API object at 0x7f8c0a492910>, _json={'id': 1210519615673159682, 'id_str': '1210519615673159682', 'name': 'Sam', 'screen_name': 'samzak27', 'location': 'Paris, France', 'description': '', 'url': None, 'entities': {'description': {'urls': []}}, 'protected': False, 'followers_count': 6, 'friends_count': 225, 'listed_count': 0, 'created_at': 'Fri Dec 27 11:15:57 +0000 2019', 'favourites_count': 989, 'utc_offset': None, 'time_zone': None, 'geo_enabled': False, 'verified': False, 'statuses_count': 39, 'lang': None, 'contributors_enabled': False, 'is_translator': False, 'is_translation_enabled': False, 'profile_background_color': 'F5F8FA', 'profile_background_image_url': None, 'profile_background_image_url_https': None, 'profile_background_tile': False, 'profile_image_url': 'http://pbs.twimg.com/profile_images/1359165561003999241/YkDh8mq9_normal.jpg', 'profile_image_url_https': 'https://pbs.twimg.com/profile_images/1359165561003999241/YkDh8mq9_normal.jpg', 'profile_link_color': '1DA1F2', 'profile_sidebar_border_color': 'C0DEED', 'profile_sidebar_fill_color': 'DDEEF6', 'profile_text_color': '333333', 'profile_use_background_image': True, 'has_extended_profile': False, 'default_profile': True, 'default_profile_image': False, 'following': False, 'follow_request_sent': False, 'notifications': False, 'translator_type': 'none'}, id=1210519615673159682, id_str='1210519615673159682', name='Sam', screen_name='samzak27', location='Paris, France', description='', url=None, entities={'description': {'urls': []}}, protected=False, followers_count=6, friends_count=225, listed_count=0, created_at=datetime.datetime(2019, 12, 27, 11, 15, 57), favourites_count=989, utc_offset=None, time_zone=None, geo_enabled=False, verified=False, statuses_count=39, lang=None, contributors_enabled=False, is_translator=False, is_translation_enabled=False, profile_background_color='F5F8FA', profile_background_image_url=None, profile_background_image_url_https=None, profile_background_tile=False, profile_image_url='http://pbs.twimg.com/profile_images/1359165561003999241/YkDh8mq9_normal.jpg', profile_image_url_https='https://pbs.twimg.com/profile_images/1359165561003999241/YkDh8mq9_normal.jpg', profile_link_color='1DA1F2', profile_sidebar_border_color='C0DEED', profile_sidebar_fill_color='DDEEF6', profile_text_color='333333', profile_use_background_image=True, has_extended_profile=False, default_profile=True, default_profile_image=False, following=False, follow_request_sent=False, notifications=False, translator_type='none'), user=User(_api=<tweepy.api.API object at 0x7f8c0a492910>, _json={'id': 1210519615673159682, 'id_str': '1210519615673159682', 'name': 'Sam', 'screen_name': 'samzak27', 'location': 'Paris, France', 'description': '', 'url': None, 'entities': {'description': {'urls': []}}, 'protected': False, 'followers_count': 6, 'friends_count': 225, 'listed_count': 0, 'created_at': 'Fri Dec 27 11:15:57 +0000 2019', 'favourites_count': 989, 'utc_offset': None, 'time_zone': None, 'geo_enabled': False, 'verified': False, 'statuses_count': 39, 'lang': None, 'contributors_enabled': False, 'is_translator': False, 'is_translation_enabled': False, 'profile_background_color': 'F5F8FA', 'profile_background_image_url': None, 'profile_background_image_url_https': None, 'profile_background_tile': False, 'profile_image_url': 'http://pbs.twimg.com/profile_images/1359165561003999241/YkDh8mq9_normal.jpg', 'profile_image_url_https': 'https://pbs.twimg.com/profile_images/1359165561003999241/YkDh8mq9_normal.jpg', 'profile_link_color': '1DA1F2', 'profile_sidebar_border_color': 'C0DEED', 'profile_sidebar_fill_color': 'DDEEF6', 'profile_text_color': '333333', 'profile_use_background_image': True, 'has_extended_profile': False, 'default_profile': True, 'default_profile_image': False, 'following': False, 'follow_request_sent': False, 'notifications': False, 'translator_type': 'none'}, id=1210519615673159682, id_str='1210519615673159682', name='Sam', screen_name='samzak27', location='Paris, France', description='', url=None, entities={'description': {'urls': []}}, protected=False, followers_count=6, friends_count=225, listed_count=0, created_at=datetime.datetime(2019, 12, 27, 11, 15, 57), favourites_count=989, utc_offset=None, time_zone=None, geo_enabled=False, verified=False, statuses_count=39, lang=None, contributors_enabled=False, is_translator=False, is_translation_enabled=False, profile_background_color='F5F8FA', profile_background_image_url=None, profile_background_image_url_https=None, profile_background_tile=False, profile_image_url='http://pbs.twimg.com/profile_images/1359165561003999241/YkDh8mq9_normal.jpg', profile_image_url_https='https://pbs.twimg.com/profile_images/1359165561003999241/YkDh8mq9_normal.jpg', profile_link_color='1DA1F2', profile_sidebar_border_color='C0DEED', profile_sidebar_fill_color='DDEEF6', profile_text_color='333333', profile_use_background_image=True, has_extended_profile=False, default_profile=True, default_profile_image=False, following=False, follow_request_sent=False, notifications=False, translator_type='none'), geo=None, coordinates=None, place=None, contributors=None, is_quote_status=False, retweet_count=0, favorite_count=0, favorited=False, retweeted=False, lang='fr')"
      ]
     },
     "execution_count": 11,
     "metadata": {},
     "output_type": "execute_result"
    }
   ],
   "source": [
    "new_status.destroy()"
   ]
  },
  {
   "cell_type": "code",
   "execution_count": null,
   "metadata": {},
   "outputs": [],
   "source": []
  }
 ],
 "metadata": {
  "kernelspec": {
   "display_name": "Python 3",
   "language": "python",
   "name": "python3"
  },
  "language_info": {
   "codemirror_mode": {
    "name": "ipython",
    "version": 3
   },
   "file_extension": ".py",
   "mimetype": "text/x-python",
   "name": "python",
   "nbconvert_exporter": "python",
   "pygments_lexer": "ipython3",
   "version": "3.7.9"
  },
  "toc": {
   "base_numbering": 1,
   "nav_menu": {},
   "number_sections": true,
   "sideBar": true,
   "skip_h1_title": false,
   "title_cell": "Table of Contents",
   "title_sidebar": "Contents",
   "toc_cell": false,
   "toc_position": {},
   "toc_section_display": true,
   "toc_window_display": false
  },
  "varInspector": {
   "cols": {
    "lenName": 16,
    "lenType": 16,
    "lenVar": 40
   },
   "kernels_config": {
    "python": {
     "delete_cmd_postfix": "",
     "delete_cmd_prefix": "del ",
     "library": "var_list.py",
     "varRefreshCmd": "print(var_dic_list())"
    },
    "r": {
     "delete_cmd_postfix": ") ",
     "delete_cmd_prefix": "rm(",
     "library": "var_list.r",
     "varRefreshCmd": "cat(var_dic_list()) "
    }
   },
   "types_to_exclude": [
    "module",
    "function",
    "builtin_function_or_method",
    "instance",
    "_Feature"
   ],
   "window_display": false
  }
 },
 "nbformat": 4,
 "nbformat_minor": 5
}
