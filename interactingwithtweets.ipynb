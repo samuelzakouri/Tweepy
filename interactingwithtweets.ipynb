{
 "cells": [
  {
   "cell_type": "code",
   "execution_count": 1,
   "metadata": {
    "ExecuteTime": {
     "end_time": "2021-02-22T21:18:24.049220Z",
     "start_time": "2021-02-22T21:18:23.236833Z"
    }
   },
   "outputs": [],
   "source": [
    "import tweepy\n",
    "import pandas as pd\n",
    "import credentials"
   ]
  },
  {
   "cell_type": "code",
   "execution_count": 3,
   "metadata": {
    "ExecuteTime": {
     "end_time": "2021-02-22T21:18:24.592678Z",
     "start_time": "2021-02-22T21:18:24.120297Z"
    }
   },
   "outputs": [],
   "source": [
    "auth = tweepy.OAuthHandler(credentials.consumer_key, credentials.consumer_secret)\n",
    "auth.set_access_token(credentials.access_token, credentials.access_token_secret)\n",
    "api = tweepy.API(auth)\n",
    "mytimeline = api.home_timeline()"
   ]
  },
  {
   "cell_type": "code",
   "execution_count": 4,
   "metadata": {
    "ExecuteTime": {
     "end_time": "2021-02-22T21:18:25.393991Z",
     "start_time": "2021-02-22T21:18:24.643530Z"
    }
   },
   "outputs": [],
   "source": [
    "rafa_nadal = api.get_user('RafaelNadal')\n",
    "rafa_tl = rafa_nadal.timeline()"
   ]
  },
  {
   "cell_type": "code",
   "execution_count": 9,
   "metadata": {
    "ExecuteTime": {
     "end_time": "2021-02-22T21:22:23.871244Z",
     "start_time": "2021-02-22T21:22:23.866794Z"
    }
   },
   "outputs": [],
   "source": [
    "status_obj_id = rafa_tl[0].id\n",
    "status_obj_screen_name = rafa_tl[0].user.screen_name"
   ]
  },
  {
   "cell_type": "code",
   "execution_count": 12,
   "metadata": {
    "ExecuteTime": {
     "end_time": "2021-02-22T21:23:04.527639Z",
     "start_time": "2021-02-22T21:23:04.523315Z"
    }
   },
   "outputs": [],
   "source": [
    "status_url = f'https://twitter.com/{status_obj_screen_name}/status/{status_obj_id}'"
   ]
  },
  {
   "cell_type": "code",
   "execution_count": 14,
   "metadata": {
    "ExecuteTime": {
     "end_time": "2021-02-22T21:23:16.272997Z",
     "start_time": "2021-02-22T21:23:16.267922Z"
    }
   },
   "outputs": [
    {
     "name": "stdout",
     "output_type": "stream",
     "text": [
      "https://twitter.com/RafaelNadal/status/1360948414456893441\n"
     ]
    }
   ],
   "source": [
    "print(status_url)"
   ]
  },
  {
   "cell_type": "code",
   "execution_count": 15,
   "metadata": {
    "ExecuteTime": {
     "end_time": "2021-02-22T21:24:18.921865Z",
     "start_time": "2021-02-22T21:24:18.600255Z"
    },
    "scrolled": true
   },
   "outputs": [
    {
     "data": {
      "text/plain": [
       "Status(_api=<tweepy.api.API object at 0x7fa41f176550>, _json={'created_at': 'Mon Feb 22 21:24:18 +0000 2021', 'id': 1363962847844315136, 'id_str': '1363962847844315136', 'text': 'RT @RafaelNadal: Todos sabemos que en esta vida nadie puede conseguir nada por sí sólo. Por eso me hace especial ilusión reconocer y agrade…', 'truncated': False, 'entities': {'hashtags': [], 'symbols': [], 'user_mentions': [{'screen_name': 'RafaelNadal', 'name': 'Rafa Nadal', 'id': 344634424, 'id_str': '344634424', 'indices': [3, 15]}], 'urls': []}, 'source': '', 'in_reply_to_status_id': None, 'in_reply_to_status_id_str': None, 'in_reply_to_user_id': None, 'in_reply_to_user_id_str': None, 'in_reply_to_screen_name': None, 'user': {'id': 1210519615673159682, 'id_str': '1210519615673159682', 'name': 'Sam', 'screen_name': 'samzak27', 'location': 'Paris, France', 'description': '', 'url': None, 'entities': {'description': {'urls': []}}, 'protected': False, 'followers_count': 6, 'friends_count': 225, 'listed_count': 0, 'created_at': 'Fri Dec 27 11:15:57 +0000 2019', 'favourites_count': 989, 'utc_offset': None, 'time_zone': None, 'geo_enabled': False, 'verified': False, 'statuses_count': 39, 'lang': None, 'contributors_enabled': False, 'is_translator': False, 'is_translation_enabled': False, 'profile_background_color': 'F5F8FA', 'profile_background_image_url': None, 'profile_background_image_url_https': None, 'profile_background_tile': False, 'profile_image_url': 'http://pbs.twimg.com/profile_images/1359165561003999241/YkDh8mq9_normal.jpg', 'profile_image_url_https': 'https://pbs.twimg.com/profile_images/1359165561003999241/YkDh8mq9_normal.jpg', 'profile_link_color': '1DA1F2', 'profile_sidebar_border_color': 'C0DEED', 'profile_sidebar_fill_color': 'DDEEF6', 'profile_text_color': '333333', 'profile_use_background_image': True, 'has_extended_profile': False, 'default_profile': True, 'default_profile_image': False, 'following': False, 'follow_request_sent': False, 'notifications': False, 'translator_type': 'none'}, 'geo': None, 'coordinates': None, 'place': None, 'contributors': None, 'retweeted_status': {'created_at': 'Sun Feb 14 13:46:01 +0000 2021', 'id': 1360948414456893441, 'id_str': '1360948414456893441', 'text': 'Todos sabemos que en esta vida nadie puede conseguir nada por sí sólo. Por eso me hace especial ilusión reconocer y… https://t.co/PgfMP44p6r', 'truncated': True, 'entities': {'hashtags': [], 'symbols': [], 'user_mentions': [], 'urls': [{'url': 'https://t.co/PgfMP44p6r', 'expanded_url': 'https://twitter.com/i/web/status/1360948414456893441', 'display_url': 'twitter.com/i/web/status/1…', 'indices': [117, 140]}]}, 'source': '<a href=\"https://studio.twitter.com\" rel=\"nofollow\">Twitter Media Studio</a>', 'in_reply_to_status_id': None, 'in_reply_to_status_id_str': None, 'in_reply_to_user_id': None, 'in_reply_to_user_id_str': None, 'in_reply_to_screen_name': None, 'user': {'id': 344634424, 'id_str': '344634424', 'name': 'Rafa Nadal', 'screen_name': 'RafaelNadal', 'location': 'Manacor', 'description': 'Tennis player', 'url': None, 'entities': {'description': {'urls': []}}, 'protected': False, 'followers_count': 15709070, 'friends_count': 134, 'listed_count': 22566, 'created_at': 'Fri Jul 29 10:44:02 +0000 2011', 'favourites_count': 266, 'utc_offset': None, 'time_zone': None, 'geo_enabled': True, 'verified': True, 'statuses_count': 3031, 'lang': None, 'contributors_enabled': False, 'is_translator': False, 'is_translation_enabled': False, 'profile_background_color': 'C0DEED', 'profile_background_image_url': 'http://abs.twimg.com/images/themes/theme1/bg.png', 'profile_background_image_url_https': 'https://abs.twimg.com/images/themes/theme1/bg.png', 'profile_background_tile': False, 'profile_image_url': 'http://pbs.twimg.com/profile_images/898280220037443585/mthp5TlW_normal.jpg', 'profile_image_url_https': 'https://pbs.twimg.com/profile_images/898280220037443585/mthp5TlW_normal.jpg', 'profile_banner_url': 'https://pbs.twimg.com/profile_banners/344634424/1600185663', 'profile_link_color': '050505', 'profile_sidebar_border_color': 'FFFFFF', 'profile_sidebar_fill_color': '7AC0D6', 'profile_text_color': '0A0A0A', 'profile_use_background_image': True, 'has_extended_profile': True, 'default_profile': False, 'default_profile_image': False, 'following': True, 'follow_request_sent': False, 'notifications': False, 'translator_type': 'none'}, 'geo': None, 'coordinates': None, 'place': None, 'contributors': None, 'is_quote_status': False, 'retweet_count': 570, 'favorite_count': 3799, 'favorited': False, 'retweeted': True, 'possibly_sensitive': False, 'lang': 'es'}, 'is_quote_status': False, 'retweet_count': 570, 'favorite_count': 0, 'favorited': False, 'retweeted': True, 'lang': 'es'}, created_at=datetime.datetime(2021, 2, 22, 21, 24, 18), id=1363962847844315136, id_str='1363962847844315136', text='RT @RafaelNadal: Todos sabemos que en esta vida nadie puede conseguir nada por sí sólo. Por eso me hace especial ilusión reconocer y agrade…', truncated=False, entities={'hashtags': [], 'symbols': [], 'user_mentions': [{'screen_name': 'RafaelNadal', 'name': 'Rafa Nadal', 'id': 344634424, 'id_str': '344634424', 'indices': [3, 15]}], 'urls': []}, source='', source_url=None, in_reply_to_status_id=None, in_reply_to_status_id_str=None, in_reply_to_user_id=None, in_reply_to_user_id_str=None, in_reply_to_screen_name=None, author=User(_api=<tweepy.api.API object at 0x7fa41f176550>, _json={'id': 1210519615673159682, 'id_str': '1210519615673159682', 'name': 'Sam', 'screen_name': 'samzak27', 'location': 'Paris, France', 'description': '', 'url': None, 'entities': {'description': {'urls': []}}, 'protected': False, 'followers_count': 6, 'friends_count': 225, 'listed_count': 0, 'created_at': 'Fri Dec 27 11:15:57 +0000 2019', 'favourites_count': 989, 'utc_offset': None, 'time_zone': None, 'geo_enabled': False, 'verified': False, 'statuses_count': 39, 'lang': None, 'contributors_enabled': False, 'is_translator': False, 'is_translation_enabled': False, 'profile_background_color': 'F5F8FA', 'profile_background_image_url': None, 'profile_background_image_url_https': None, 'profile_background_tile': False, 'profile_image_url': 'http://pbs.twimg.com/profile_images/1359165561003999241/YkDh8mq9_normal.jpg', 'profile_image_url_https': 'https://pbs.twimg.com/profile_images/1359165561003999241/YkDh8mq9_normal.jpg', 'profile_link_color': '1DA1F2', 'profile_sidebar_border_color': 'C0DEED', 'profile_sidebar_fill_color': 'DDEEF6', 'profile_text_color': '333333', 'profile_use_background_image': True, 'has_extended_profile': False, 'default_profile': True, 'default_profile_image': False, 'following': False, 'follow_request_sent': False, 'notifications': False, 'translator_type': 'none'}, id=1210519615673159682, id_str='1210519615673159682', name='Sam', screen_name='samzak27', location='Paris, France', description='', url=None, entities={'description': {'urls': []}}, protected=False, followers_count=6, friends_count=225, listed_count=0, created_at=datetime.datetime(2019, 12, 27, 11, 15, 57), favourites_count=989, utc_offset=None, time_zone=None, geo_enabled=False, verified=False, statuses_count=39, lang=None, contributors_enabled=False, is_translator=False, is_translation_enabled=False, profile_background_color='F5F8FA', profile_background_image_url=None, profile_background_image_url_https=None, profile_background_tile=False, profile_image_url='http://pbs.twimg.com/profile_images/1359165561003999241/YkDh8mq9_normal.jpg', profile_image_url_https='https://pbs.twimg.com/profile_images/1359165561003999241/YkDh8mq9_normal.jpg', profile_link_color='1DA1F2', profile_sidebar_border_color='C0DEED', profile_sidebar_fill_color='DDEEF6', profile_text_color='333333', profile_use_background_image=True, has_extended_profile=False, default_profile=True, default_profile_image=False, following=False, follow_request_sent=False, notifications=False, translator_type='none'), user=User(_api=<tweepy.api.API object at 0x7fa41f176550>, _json={'id': 1210519615673159682, 'id_str': '1210519615673159682', 'name': 'Sam', 'screen_name': 'samzak27', 'location': 'Paris, France', 'description': '', 'url': None, 'entities': {'description': {'urls': []}}, 'protected': False, 'followers_count': 6, 'friends_count': 225, 'listed_count': 0, 'created_at': 'Fri Dec 27 11:15:57 +0000 2019', 'favourites_count': 989, 'utc_offset': None, 'time_zone': None, 'geo_enabled': False, 'verified': False, 'statuses_count': 39, 'lang': None, 'contributors_enabled': False, 'is_translator': False, 'is_translation_enabled': False, 'profile_background_color': 'F5F8FA', 'profile_background_image_url': None, 'profile_background_image_url_https': None, 'profile_background_tile': False, 'profile_image_url': 'http://pbs.twimg.com/profile_images/1359165561003999241/YkDh8mq9_normal.jpg', 'profile_image_url_https': 'https://pbs.twimg.com/profile_images/1359165561003999241/YkDh8mq9_normal.jpg', 'profile_link_color': '1DA1F2', 'profile_sidebar_border_color': 'C0DEED', 'profile_sidebar_fill_color': 'DDEEF6', 'profile_text_color': '333333', 'profile_use_background_image': True, 'has_extended_profile': False, 'default_profile': True, 'default_profile_image': False, 'following': False, 'follow_request_sent': False, 'notifications': False, 'translator_type': 'none'}, id=1210519615673159682, id_str='1210519615673159682', name='Sam', screen_name='samzak27', location='Paris, France', description='', url=None, entities={'description': {'urls': []}}, protected=False, followers_count=6, friends_count=225, listed_count=0, created_at=datetime.datetime(2019, 12, 27, 11, 15, 57), favourites_count=989, utc_offset=None, time_zone=None, geo_enabled=False, verified=False, statuses_count=39, lang=None, contributors_enabled=False, is_translator=False, is_translation_enabled=False, profile_background_color='F5F8FA', profile_background_image_url=None, profile_background_image_url_https=None, profile_background_tile=False, profile_image_url='http://pbs.twimg.com/profile_images/1359165561003999241/YkDh8mq9_normal.jpg', profile_image_url_https='https://pbs.twimg.com/profile_images/1359165561003999241/YkDh8mq9_normal.jpg', profile_link_color='1DA1F2', profile_sidebar_border_color='C0DEED', profile_sidebar_fill_color='DDEEF6', profile_text_color='333333', profile_use_background_image=True, has_extended_profile=False, default_profile=True, default_profile_image=False, following=False, follow_request_sent=False, notifications=False, translator_type='none'), geo=None, coordinates=None, place=None, contributors=None, retweeted_status=Status(_api=<tweepy.api.API object at 0x7fa41f176550>, _json={'created_at': 'Sun Feb 14 13:46:01 +0000 2021', 'id': 1360948414456893441, 'id_str': '1360948414456893441', 'text': 'Todos sabemos que en esta vida nadie puede conseguir nada por sí sólo. Por eso me hace especial ilusión reconocer y… https://t.co/PgfMP44p6r', 'truncated': True, 'entities': {'hashtags': [], 'symbols': [], 'user_mentions': [], 'urls': [{'url': 'https://t.co/PgfMP44p6r', 'expanded_url': 'https://twitter.com/i/web/status/1360948414456893441', 'display_url': 'twitter.com/i/web/status/1…', 'indices': [117, 140]}]}, 'source': '<a href=\"https://studio.twitter.com\" rel=\"nofollow\">Twitter Media Studio</a>', 'in_reply_to_status_id': None, 'in_reply_to_status_id_str': None, 'in_reply_to_user_id': None, 'in_reply_to_user_id_str': None, 'in_reply_to_screen_name': None, 'user': {'id': 344634424, 'id_str': '344634424', 'name': 'Rafa Nadal', 'screen_name': 'RafaelNadal', 'location': 'Manacor', 'description': 'Tennis player', 'url': None, 'entities': {'description': {'urls': []}}, 'protected': False, 'followers_count': 15709070, 'friends_count': 134, 'listed_count': 22566, 'created_at': 'Fri Jul 29 10:44:02 +0000 2011', 'favourites_count': 266, 'utc_offset': None, 'time_zone': None, 'geo_enabled': True, 'verified': True, 'statuses_count': 3031, 'lang': None, 'contributors_enabled': False, 'is_translator': False, 'is_translation_enabled': False, 'profile_background_color': 'C0DEED', 'profile_background_image_url': 'http://abs.twimg.com/images/themes/theme1/bg.png', 'profile_background_image_url_https': 'https://abs.twimg.com/images/themes/theme1/bg.png', 'profile_background_tile': False, 'profile_image_url': 'http://pbs.twimg.com/profile_images/898280220037443585/mthp5TlW_normal.jpg', 'profile_image_url_https': 'https://pbs.twimg.com/profile_images/898280220037443585/mthp5TlW_normal.jpg', 'profile_banner_url': 'https://pbs.twimg.com/profile_banners/344634424/1600185663', 'profile_link_color': '050505', 'profile_sidebar_border_color': 'FFFFFF', 'profile_sidebar_fill_color': '7AC0D6', 'profile_text_color': '0A0A0A', 'profile_use_background_image': True, 'has_extended_profile': True, 'default_profile': False, 'default_profile_image': False, 'following': True, 'follow_request_sent': False, 'notifications': False, 'translator_type': 'none'}, 'geo': None, 'coordinates': None, 'place': None, 'contributors': None, 'is_quote_status': False, 'retweet_count': 570, 'favorite_count': 3799, 'favorited': False, 'retweeted': True, 'possibly_sensitive': False, 'lang': 'es'}, created_at=datetime.datetime(2021, 2, 14, 13, 46, 1), id=1360948414456893441, id_str='1360948414456893441', text='Todos sabemos que en esta vida nadie puede conseguir nada por sí sólo. Por eso me hace especial ilusión reconocer y… https://t.co/PgfMP44p6r', truncated=True, entities={'hashtags': [], 'symbols': [], 'user_mentions': [], 'urls': [{'url': 'https://t.co/PgfMP44p6r', 'expanded_url': 'https://twitter.com/i/web/status/1360948414456893441', 'display_url': 'twitter.com/i/web/status/1…', 'indices': [117, 140]}]}, source='Twitter Media Studio', source_url='https://studio.twitter.com', in_reply_to_status_id=None, in_reply_to_status_id_str=None, in_reply_to_user_id=None, in_reply_to_user_id_str=None, in_reply_to_screen_name=None, author=User(_api=<tweepy.api.API object at 0x7fa41f176550>, _json={'id': 344634424, 'id_str': '344634424', 'name': 'Rafa Nadal', 'screen_name': 'RafaelNadal', 'location': 'Manacor', 'description': 'Tennis player', 'url': None, 'entities': {'description': {'urls': []}}, 'protected': False, 'followers_count': 15709070, 'friends_count': 134, 'listed_count': 22566, 'created_at': 'Fri Jul 29 10:44:02 +0000 2011', 'favourites_count': 266, 'utc_offset': None, 'time_zone': None, 'geo_enabled': True, 'verified': True, 'statuses_count': 3031, 'lang': None, 'contributors_enabled': False, 'is_translator': False, 'is_translation_enabled': False, 'profile_background_color': 'C0DEED', 'profile_background_image_url': 'http://abs.twimg.com/images/themes/theme1/bg.png', 'profile_background_image_url_https': 'https://abs.twimg.com/images/themes/theme1/bg.png', 'profile_background_tile': False, 'profile_image_url': 'http://pbs.twimg.com/profile_images/898280220037443585/mthp5TlW_normal.jpg', 'profile_image_url_https': 'https://pbs.twimg.com/profile_images/898280220037443585/mthp5TlW_normal.jpg', 'profile_banner_url': 'https://pbs.twimg.com/profile_banners/344634424/1600185663', 'profile_link_color': '050505', 'profile_sidebar_border_color': 'FFFFFF', 'profile_sidebar_fill_color': '7AC0D6', 'profile_text_color': '0A0A0A', 'profile_use_background_image': True, 'has_extended_profile': True, 'default_profile': False, 'default_profile_image': False, 'following': True, 'follow_request_sent': False, 'notifications': False, 'translator_type': 'none'}, id=344634424, id_str='344634424', name='Rafa Nadal', screen_name='RafaelNadal', location='Manacor', description='Tennis player', url=None, entities={'description': {'urls': []}}, protected=False, followers_count=15709070, friends_count=134, listed_count=22566, created_at=datetime.datetime(2011, 7, 29, 10, 44, 2), favourites_count=266, utc_offset=None, time_zone=None, geo_enabled=True, verified=True, statuses_count=3031, lang=None, contributors_enabled=False, is_translator=False, is_translation_enabled=False, profile_background_color='C0DEED', profile_background_image_url='http://abs.twimg.com/images/themes/theme1/bg.png', profile_background_image_url_https='https://abs.twimg.com/images/themes/theme1/bg.png', profile_background_tile=False, profile_image_url='http://pbs.twimg.com/profile_images/898280220037443585/mthp5TlW_normal.jpg', profile_image_url_https='https://pbs.twimg.com/profile_images/898280220037443585/mthp5TlW_normal.jpg', profile_banner_url='https://pbs.twimg.com/profile_banners/344634424/1600185663', profile_link_color='050505', profile_sidebar_border_color='FFFFFF', profile_sidebar_fill_color='7AC0D6', profile_text_color='0A0A0A', profile_use_background_image=True, has_extended_profile=True, default_profile=False, default_profile_image=False, following=True, follow_request_sent=False, notifications=False, translator_type='none'), user=User(_api=<tweepy.api.API object at 0x7fa41f176550>, _json={'id': 344634424, 'id_str': '344634424', 'name': 'Rafa Nadal', 'screen_name': 'RafaelNadal', 'location': 'Manacor', 'description': 'Tennis player', 'url': None, 'entities': {'description': {'urls': []}}, 'protected': False, 'followers_count': 15709070, 'friends_count': 134, 'listed_count': 22566, 'created_at': 'Fri Jul 29 10:44:02 +0000 2011', 'favourites_count': 266, 'utc_offset': None, 'time_zone': None, 'geo_enabled': True, 'verified': True, 'statuses_count': 3031, 'lang': None, 'contributors_enabled': False, 'is_translator': False, 'is_translation_enabled': False, 'profile_background_color': 'C0DEED', 'profile_background_image_url': 'http://abs.twimg.com/images/themes/theme1/bg.png', 'profile_background_image_url_https': 'https://abs.twimg.com/images/themes/theme1/bg.png', 'profile_background_tile': False, 'profile_image_url': 'http://pbs.twimg.com/profile_images/898280220037443585/mthp5TlW_normal.jpg', 'profile_image_url_https': 'https://pbs.twimg.com/profile_images/898280220037443585/mthp5TlW_normal.jpg', 'profile_banner_url': 'https://pbs.twimg.com/profile_banners/344634424/1600185663', 'profile_link_color': '050505', 'profile_sidebar_border_color': 'FFFFFF', 'profile_sidebar_fill_color': '7AC0D6', 'profile_text_color': '0A0A0A', 'profile_use_background_image': True, 'has_extended_profile': True, 'default_profile': False, 'default_profile_image': False, 'following': True, 'follow_request_sent': False, 'notifications': False, 'translator_type': 'none'}, id=344634424, id_str='344634424', name='Rafa Nadal', screen_name='RafaelNadal', location='Manacor', description='Tennis player', url=None, entities={'description': {'urls': []}}, protected=False, followers_count=15709070, friends_count=134, listed_count=22566, created_at=datetime.datetime(2011, 7, 29, 10, 44, 2), favourites_count=266, utc_offset=None, time_zone=None, geo_enabled=True, verified=True, statuses_count=3031, lang=None, contributors_enabled=False, is_translator=False, is_translation_enabled=False, profile_background_color='C0DEED', profile_background_image_url='http://abs.twimg.com/images/themes/theme1/bg.png', profile_background_image_url_https='https://abs.twimg.com/images/themes/theme1/bg.png', profile_background_tile=False, profile_image_url='http://pbs.twimg.com/profile_images/898280220037443585/mthp5TlW_normal.jpg', profile_image_url_https='https://pbs.twimg.com/profile_images/898280220037443585/mthp5TlW_normal.jpg', profile_banner_url='https://pbs.twimg.com/profile_banners/344634424/1600185663', profile_link_color='050505', profile_sidebar_border_color='FFFFFF', profile_sidebar_fill_color='7AC0D6', profile_text_color='0A0A0A', profile_use_background_image=True, has_extended_profile=True, default_profile=False, default_profile_image=False, following=True, follow_request_sent=False, notifications=False, translator_type='none'), geo=None, coordinates=None, place=None, contributors=None, is_quote_status=False, retweet_count=570, favorite_count=3799, favorited=False, retweeted=True, possibly_sensitive=False, lang='es'), is_quote_status=False, retweet_count=570, favorite_count=0, favorited=False, retweeted=True, lang='es')"
      ]
     },
     "execution_count": 15,
     "metadata": {},
     "output_type": "execute_result"
    }
   ],
   "source": [
    "api.retweet(status_obj_id)"
   ]
  },
  {
   "cell_type": "code",
   "execution_count": 16,
   "metadata": {
    "ExecuteTime": {
     "end_time": "2021-02-22T21:25:11.883425Z",
     "start_time": "2021-02-22T21:25:11.447356Z"
    }
   },
   "outputs": [
    {
     "data": {
      "text/plain": [
       "Status(_api=<tweepy.api.API object at 0x7fa41f176550>, _json={'created_at': 'Sun Feb 14 13:46:01 +0000 2021', 'id': 1360948414456893441, 'id_str': '1360948414456893441', 'text': 'Todos sabemos que en esta vida nadie puede conseguir nada por sí sólo. Por eso me hace especial ilusión reconocer y… https://t.co/PgfMP44p6r', 'truncated': True, 'entities': {'hashtags': [], 'symbols': [], 'user_mentions': [], 'urls': [{'url': 'https://t.co/PgfMP44p6r', 'expanded_url': 'https://twitter.com/i/web/status/1360948414456893441', 'display_url': 'twitter.com/i/web/status/1…', 'indices': [117, 140]}]}, 'source': '<a href=\"https://studio.twitter.com\" rel=\"nofollow\">Twitter Media Studio</a>', 'in_reply_to_status_id': None, 'in_reply_to_status_id_str': None, 'in_reply_to_user_id': None, 'in_reply_to_user_id_str': None, 'in_reply_to_screen_name': None, 'user': {'id': 344634424, 'id_str': '344634424', 'name': 'Rafa Nadal', 'screen_name': 'RafaelNadal', 'location': 'Manacor', 'description': 'Tennis player', 'url': None, 'entities': {'description': {'urls': []}}, 'protected': False, 'followers_count': 15709070, 'friends_count': 134, 'listed_count': 22566, 'created_at': 'Fri Jul 29 10:44:02 +0000 2011', 'favourites_count': 266, 'utc_offset': None, 'time_zone': None, 'geo_enabled': True, 'verified': True, 'statuses_count': 3031, 'lang': None, 'contributors_enabled': False, 'is_translator': False, 'is_translation_enabled': False, 'profile_background_color': 'C0DEED', 'profile_background_image_url': 'http://abs.twimg.com/images/themes/theme1/bg.png', 'profile_background_image_url_https': 'https://abs.twimg.com/images/themes/theme1/bg.png', 'profile_background_tile': False, 'profile_image_url': 'http://pbs.twimg.com/profile_images/898280220037443585/mthp5TlW_normal.jpg', 'profile_image_url_https': 'https://pbs.twimg.com/profile_images/898280220037443585/mthp5TlW_normal.jpg', 'profile_banner_url': 'https://pbs.twimg.com/profile_banners/344634424/1600185663', 'profile_link_color': '050505', 'profile_sidebar_border_color': 'FFFFFF', 'profile_sidebar_fill_color': '7AC0D6', 'profile_text_color': '0A0A0A', 'profile_use_background_image': True, 'has_extended_profile': True, 'default_profile': False, 'default_profile_image': False, 'following': True, 'follow_request_sent': False, 'notifications': False, 'translator_type': 'none'}, 'geo': None, 'coordinates': None, 'place': None, 'contributors': None, 'is_quote_status': False, 'retweet_count': 570, 'favorite_count': 3800, 'favorited': True, 'retweeted': True, 'possibly_sensitive': False, 'lang': 'es'}, created_at=datetime.datetime(2021, 2, 14, 13, 46, 1), id=1360948414456893441, id_str='1360948414456893441', text='Todos sabemos que en esta vida nadie puede conseguir nada por sí sólo. Por eso me hace especial ilusión reconocer y… https://t.co/PgfMP44p6r', truncated=True, entities={'hashtags': [], 'symbols': [], 'user_mentions': [], 'urls': [{'url': 'https://t.co/PgfMP44p6r', 'expanded_url': 'https://twitter.com/i/web/status/1360948414456893441', 'display_url': 'twitter.com/i/web/status/1…', 'indices': [117, 140]}]}, source='Twitter Media Studio', source_url='https://studio.twitter.com', in_reply_to_status_id=None, in_reply_to_status_id_str=None, in_reply_to_user_id=None, in_reply_to_user_id_str=None, in_reply_to_screen_name=None, author=User(_api=<tweepy.api.API object at 0x7fa41f176550>, _json={'id': 344634424, 'id_str': '344634424', 'name': 'Rafa Nadal', 'screen_name': 'RafaelNadal', 'location': 'Manacor', 'description': 'Tennis player', 'url': None, 'entities': {'description': {'urls': []}}, 'protected': False, 'followers_count': 15709070, 'friends_count': 134, 'listed_count': 22566, 'created_at': 'Fri Jul 29 10:44:02 +0000 2011', 'favourites_count': 266, 'utc_offset': None, 'time_zone': None, 'geo_enabled': True, 'verified': True, 'statuses_count': 3031, 'lang': None, 'contributors_enabled': False, 'is_translator': False, 'is_translation_enabled': False, 'profile_background_color': 'C0DEED', 'profile_background_image_url': 'http://abs.twimg.com/images/themes/theme1/bg.png', 'profile_background_image_url_https': 'https://abs.twimg.com/images/themes/theme1/bg.png', 'profile_background_tile': False, 'profile_image_url': 'http://pbs.twimg.com/profile_images/898280220037443585/mthp5TlW_normal.jpg', 'profile_image_url_https': 'https://pbs.twimg.com/profile_images/898280220037443585/mthp5TlW_normal.jpg', 'profile_banner_url': 'https://pbs.twimg.com/profile_banners/344634424/1600185663', 'profile_link_color': '050505', 'profile_sidebar_border_color': 'FFFFFF', 'profile_sidebar_fill_color': '7AC0D6', 'profile_text_color': '0A0A0A', 'profile_use_background_image': True, 'has_extended_profile': True, 'default_profile': False, 'default_profile_image': False, 'following': True, 'follow_request_sent': False, 'notifications': False, 'translator_type': 'none'}, id=344634424, id_str='344634424', name='Rafa Nadal', screen_name='RafaelNadal', location='Manacor', description='Tennis player', url=None, entities={'description': {'urls': []}}, protected=False, followers_count=15709070, friends_count=134, listed_count=22566, created_at=datetime.datetime(2011, 7, 29, 10, 44, 2), favourites_count=266, utc_offset=None, time_zone=None, geo_enabled=True, verified=True, statuses_count=3031, lang=None, contributors_enabled=False, is_translator=False, is_translation_enabled=False, profile_background_color='C0DEED', profile_background_image_url='http://abs.twimg.com/images/themes/theme1/bg.png', profile_background_image_url_https='https://abs.twimg.com/images/themes/theme1/bg.png', profile_background_tile=False, profile_image_url='http://pbs.twimg.com/profile_images/898280220037443585/mthp5TlW_normal.jpg', profile_image_url_https='https://pbs.twimg.com/profile_images/898280220037443585/mthp5TlW_normal.jpg', profile_banner_url='https://pbs.twimg.com/profile_banners/344634424/1600185663', profile_link_color='050505', profile_sidebar_border_color='FFFFFF', profile_sidebar_fill_color='7AC0D6', profile_text_color='0A0A0A', profile_use_background_image=True, has_extended_profile=True, default_profile=False, default_profile_image=False, following=True, follow_request_sent=False, notifications=False, translator_type='none'), user=User(_api=<tweepy.api.API object at 0x7fa41f176550>, _json={'id': 344634424, 'id_str': '344634424', 'name': 'Rafa Nadal', 'screen_name': 'RafaelNadal', 'location': 'Manacor', 'description': 'Tennis player', 'url': None, 'entities': {'description': {'urls': []}}, 'protected': False, 'followers_count': 15709070, 'friends_count': 134, 'listed_count': 22566, 'created_at': 'Fri Jul 29 10:44:02 +0000 2011', 'favourites_count': 266, 'utc_offset': None, 'time_zone': None, 'geo_enabled': True, 'verified': True, 'statuses_count': 3031, 'lang': None, 'contributors_enabled': False, 'is_translator': False, 'is_translation_enabled': False, 'profile_background_color': 'C0DEED', 'profile_background_image_url': 'http://abs.twimg.com/images/themes/theme1/bg.png', 'profile_background_image_url_https': 'https://abs.twimg.com/images/themes/theme1/bg.png', 'profile_background_tile': False, 'profile_image_url': 'http://pbs.twimg.com/profile_images/898280220037443585/mthp5TlW_normal.jpg', 'profile_image_url_https': 'https://pbs.twimg.com/profile_images/898280220037443585/mthp5TlW_normal.jpg', 'profile_banner_url': 'https://pbs.twimg.com/profile_banners/344634424/1600185663', 'profile_link_color': '050505', 'profile_sidebar_border_color': 'FFFFFF', 'profile_sidebar_fill_color': '7AC0D6', 'profile_text_color': '0A0A0A', 'profile_use_background_image': True, 'has_extended_profile': True, 'default_profile': False, 'default_profile_image': False, 'following': True, 'follow_request_sent': False, 'notifications': False, 'translator_type': 'none'}, id=344634424, id_str='344634424', name='Rafa Nadal', screen_name='RafaelNadal', location='Manacor', description='Tennis player', url=None, entities={'description': {'urls': []}}, protected=False, followers_count=15709070, friends_count=134, listed_count=22566, created_at=datetime.datetime(2011, 7, 29, 10, 44, 2), favourites_count=266, utc_offset=None, time_zone=None, geo_enabled=True, verified=True, statuses_count=3031, lang=None, contributors_enabled=False, is_translator=False, is_translation_enabled=False, profile_background_color='C0DEED', profile_background_image_url='http://abs.twimg.com/images/themes/theme1/bg.png', profile_background_image_url_https='https://abs.twimg.com/images/themes/theme1/bg.png', profile_background_tile=False, profile_image_url='http://pbs.twimg.com/profile_images/898280220037443585/mthp5TlW_normal.jpg', profile_image_url_https='https://pbs.twimg.com/profile_images/898280220037443585/mthp5TlW_normal.jpg', profile_banner_url='https://pbs.twimg.com/profile_banners/344634424/1600185663', profile_link_color='050505', profile_sidebar_border_color='FFFFFF', profile_sidebar_fill_color='7AC0D6', profile_text_color='0A0A0A', profile_use_background_image=True, has_extended_profile=True, default_profile=False, default_profile_image=False, following=True, follow_request_sent=False, notifications=False, translator_type='none'), geo=None, coordinates=None, place=None, contributors=None, is_quote_status=False, retweet_count=570, favorite_count=3800, favorited=True, retweeted=True, possibly_sensitive=False, lang='es')"
      ]
     },
     "execution_count": 16,
     "metadata": {},
     "output_type": "execute_result"
    }
   ],
   "source": [
    "api.create_favorite(status_obj_id)\n",
    "#api.destroy_favorite(status_obj_id)"
   ]
  },
  {
   "cell_type": "code",
   "execution_count": null,
   "metadata": {},
   "outputs": [],
   "source": [
    "api.update_status(f'@{} wow this is cool', f'{status_obj_id}')"
   ]
  },
  {
   "cell_type": "code",
   "execution_count": 19,
   "metadata": {
    "ExecuteTime": {
     "end_time": "2021-02-22T21:31:07.600630Z",
     "start_time": "2021-02-22T21:31:07.593666Z"
    }
   },
   "outputs": [
    {
     "data": {
      "text/plain": [
       "15709069"
      ]
     },
     "execution_count": 19,
     "metadata": {},
     "output_type": "execute_result"
    }
   ],
   "source": [
    "rafa_nadal.followers_count"
   ]
  },
  {
   "cell_type": "code",
   "execution_count": 20,
   "metadata": {
    "ExecuteTime": {
     "end_time": "2021-02-22T21:31:21.657936Z",
     "start_time": "2021-02-22T21:31:21.651031Z"
    }
   },
   "outputs": [
    {
     "data": {
      "text/plain": [
       "134"
      ]
     },
     "execution_count": 20,
     "metadata": {},
     "output_type": "execute_result"
    }
   ],
   "source": [
    "rafa_nadal.friends_count"
   ]
  },
  {
   "cell_type": "code",
   "execution_count": null,
   "metadata": {},
   "outputs": [],
   "source": [
    "api.create_friendship('')\n",
    "api.destroy_friendship('')"
   ]
  }
 ],
 "metadata": {
  "kernelspec": {
   "display_name": "Python 3",
   "language": "python",
   "name": "python3"
  },
  "language_info": {
   "codemirror_mode": {
    "name": "ipython",
    "version": 3
   },
   "file_extension": ".py",
   "mimetype": "text/x-python",
   "name": "python",
   "nbconvert_exporter": "python",
   "pygments_lexer": "ipython3",
   "version": "3.7.9"
  },
  "toc": {
   "base_numbering": 1,
   "nav_menu": {},
   "number_sections": true,
   "sideBar": true,
   "skip_h1_title": false,
   "title_cell": "Table of Contents",
   "title_sidebar": "Contents",
   "toc_cell": false,
   "toc_position": {},
   "toc_section_display": true,
   "toc_window_display": false
  },
  "varInspector": {
   "cols": {
    "lenName": 16,
    "lenType": 16,
    "lenVar": 40
   },
   "kernels_config": {
    "python": {
     "delete_cmd_postfix": "",
     "delete_cmd_prefix": "del ",
     "library": "var_list.py",
     "varRefreshCmd": "print(var_dic_list())"
    },
    "r": {
     "delete_cmd_postfix": ") ",
     "delete_cmd_prefix": "rm(",
     "library": "var_list.r",
     "varRefreshCmd": "cat(var_dic_list()) "
    }
   },
   "types_to_exclude": [
    "module",
    "function",
    "builtin_function_or_method",
    "instance",
    "_Feature"
   ],
   "window_display": false
  }
 },
 "nbformat": 4,
 "nbformat_minor": 5
}
